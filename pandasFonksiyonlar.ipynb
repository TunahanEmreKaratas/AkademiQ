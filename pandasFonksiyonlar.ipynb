
{
 "cells": [
  {
   "cell_type": "markdown",
   "metadata": {},
   "source": [
    "# Pandas Fonksiyonları Kullanım Örnekleri\n",
    "Bu dosyada Pandas kütüphanesindeki temel 10 fonksiyonun kullanım örnekleri gösterilmiştir."
   ]
  },
  {
   "cell_type": "code",
   "metadata": {},
   "source": [
    "import pandas as pd\n",
    "data = {'Name': ['Alice', 'Bob', 'Charlie', 'David', 'Eva'],\n",
    "        'Age': [25, 30, 35, None, 40],\n",
    "        'Salary': [50000, 60000, 70000, 80000, None],\n",
    "        'Department': ['HR', 'IT', 'IT', 'HR', 'Finance']}\n",
    "df = pd.DataFrame(data)\n",
    "df"
   ]
  },
  {
   "cell_type": "markdown",
   "metadata": {},
   "source": ["## 1. read_csv() - CSV dosyasını okuma"]
  },
  {
   "cell_type": "code",
   "metadata": {},
   "source": [
    "# df = pd.read_csv('filename.csv')"
   ]
  },
  {
   "cell_type": "markdown",
   "metadata": {},
   "source": ["## 2. head() - İlk 5 satırı görüntüleme"]
  },
  {
   "cell_type": "code",
   "metadata": {},
   "source": [
    "df.head()"
   ]
  },
  {
   "cell_type": "markdown",
   "metadata": {},
   "source": ["## 3. info() - Veri çerçevesi hakkında bilgi alma"]
  },
  {
   "cell_type": "code",
   "metadata": {},
   "source": [
    "df.info()"
   ]
  },
  {
   "cell_type": "markdown",
   "metadata": {},
   "source": ["## 4. describe() - İstatistiksel özet"]
  },
  {
   "cell_type": "code",
   "metadata": {},
   "source": [
    "df.describe()"
   ]
  },
  {
   "cell_type": "markdown",
   "metadata": {},
   "source": ["## 5. isnull() - Eksik verileri kontrol etme"]
  },
  {
   "cell_type": "code",
   "metadata": {},
   "source": [
    "df.isnull()"
   ]
  },
  {
   "cell_type": "markdown",
   "metadata": {},
   "source": ["## 6. dropna() - Eksik verileri kaldırma"]
  },
  {
   "cell_type": "code",
   "metadata": {},
   "source": [
    "df.dropna()"
   ]
  },
  {
   "cell_type": "markdown",
   "metadata": {},
   "source": ["## 7. fillna() - Eksik verileri doldurma"]
  },
  {
   "cell_type": "code",
   "metadata": {},
   "source": [
    "df.fillna(0)"
   ]
  },
  {
   "cell_type": "markdown",
   "metadata": {},
   "source": ["## 8. groupby() - Gruplama ve toplama işlemi"]
  },
  {
   "cell_type": "code",
   "metadata": {},
   "source": [
    "df.groupby('Department')['Salary'].mean()"
   ]
  },
  {
   "cell_type": "markdown",
   "metadata": {},
   "source": ["## 9. merge() - İki veri çerçevesini birleştirme"]
  },
  {
   "cell_type": "code",
   "metadata": {},
   "source": [
    "df2 = pd.DataFrame({'Department': ['HR', 'IT', 'Finance'],\n",
    "                    'Location': ['Building A', 'Building B', 'Building C']})\n",
    "pd.merge(df, df2, on='Department')"
   ]
  },
  {
   "cell_type": "markdown",
   "metadata": {},
   "source": ["## 10. pivot_table() - Pivot tablo oluşturma"]
  },
  {
   "cell_type": "code",
   "metadata": {},
   "source": [
    "df.pivot_table(values='Salary', index='Department', aggfunc='mean')"
   ]
  }
 ],
 "metadata": {
  "kernelspec": {
   "display_name": "Python 3",
   "language": "python",
   "name": "python3"
  },
  "language_info": {
   "codemirror_mode": {"name": "ipython", "version": 3},
   "file_extension": ".py",
   "mimetype": "text/x-python",
   "name": "python",
   "nbconvert_exporter": "python",
   "pygments_lexer": "ipython3",
   "version": "3.8.5"
  }
 },
 "nbformat": 4,
 "nbformat_minor": 4
}
